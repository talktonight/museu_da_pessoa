{
 "cells": [
  {
   "cell_type": "code",
   "execution_count": 23,
   "metadata": {},
   "outputs": [],
   "source": [
    "import requests\n",
    "from bs4 import BeautifulSoup"
   ]
  },
  {
   "cell_type": "code",
   "execution_count": 26,
   "metadata": {},
   "outputs": [
    {
     "name": "stdout",
     "output_type": "stream",
     "text": [
      "216\n"
     ]
    }
   ],
   "source": [
    "url = \"https://acervo.museudapessoa.org/pt/buscar/conteudo/pessoa/pag/\"\n",
    "step = 54\n",
    "\n",
    "file = open(\"saida_pessoa2.txt\", \"w+\")\n",
    "\n",
    "for i in range(216, 217):\n",
    "    r = requests.get(url + str(i * step))\n",
    "    soup = BeautifulSoup(r.content, \"html.parser\")\n",
    "    for story in soup.find_all(\"a\", {\"class\" : \"thumb\"}):\n",
    "        file.write(story['href'] + \"\\n\")\n",
    "    print(i)\n",
    "\n",
    "file.close()\n",
    "link.click()\n"
   ]
  },
  {
   "cell_type": "code",
   "execution_count": null,
   "metadata": {},
   "outputs": [],
   "source": []
  }
 ],
 "metadata": {
  "kernelspec": {
   "display_name": "Python 3",
   "language": "python",
   "name": "python3"
  },
  "language_info": {
   "codemirror_mode": {
    "name": "ipython",
    "version": 3
   },
   "file_extension": ".py",
   "mimetype": "text/x-python",
   "name": "python",
   "nbconvert_exporter": "python",
   "pygments_lexer": "ipython3",
   "version": "3.8.9"
  }
 },
 "nbformat": 4,
 "nbformat_minor": 4
}
