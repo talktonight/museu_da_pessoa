{
 "cells": [
  {
   "cell_type": "code",
   "execution_count": 1,
   "metadata": {},
   "outputs": [],
   "source": [
    "import requests\n",
    "from bs4 import BeautifulSoup\n",
    "import os"
   ]
  },
  {
   "cell_type": "code",
   "execution_count": 2,
   "metadata": {},
   "outputs": [],
   "source": [
    "\"\"\"\n",
    "Recebe a URL de uma página com uma história. Pega o conteúdo da história (contida \n",
    "em uma <div id=\"entrevista_transcrita\") e salva em um arquivo HTML com o nome da URL raspada.\n",
    "\"\"\"\n",
    "\n",
    "def scrape_story(url):\n",
    "    name = str(url.split(\"/\")[6]) + \".html\"\n",
    "    r = requests.get(url)\n",
    "    soup = BeautifulSoup(r.content, \"html.parser\")\n",
    "    historia = soup.find(\"div\", {\"id\" : \"entrevista_transcrita\"})\n",
    "    file = open(name , \"w\")\n",
    "    file.write(str(historia))"
   ]
  },
  {
   "cell_type": "code",
   "execution_count": 3,
   "metadata": {},
   "outputs": [
    {
     "ename": "SyntaxError",
     "evalue": "EOF while scanning triple-quoted string literal (<ipython-input-3-2fa28d84eb7f>, line 6)",
     "output_type": "error",
     "traceback": [
      "\u001b[0;36m  File \u001b[0;32m\"<ipython-input-3-2fa28d84eb7f>\"\u001b[0;36m, line \u001b[0;32m6\u001b[0m\n\u001b[0;31m    scrape_story(\"https://acervo.museudapessoa.org/pt/conteudo/historia/atento-ao-comportamento-sustentavel-24-horas-por-dia-49491\")\u001b[0m\n\u001b[0m                                                                                                                                    \n^\u001b[0m\n\u001b[0;31mSyntaxError\u001b[0m\u001b[0;31m:\u001b[0m EOF while scanning triple-quoted string literal\n"
     ]
    }
   ],
   "source": [
    "\"\"\"\n",
    "Cria uma pasta \"histórias\" no mesmo diretório em que este arquivo estiver. \n",
    "Só rode essa seção uma vez.\n",
    "\"\"\"\n",
    "os.mkdir(\"historias\")\n",
    "os.chdir(\"historias\")"
   ]
  },
  {
   "cell_type": "code",
   "execution_count": null,
   "metadata": {},
   "outputs": [],
   "source": [
    "\"\"\"\n",
    "Troque pelo nome do arquivo com as URLs.\n",
    "O arquivo deve ter uma URL por linha, e nada além disso. \n",
    "\"\"\"\n",
    "file = open(\"file.txt\", \"r\")\n",
    "\n",
    "i = 0\n",
    "for line in file:\n",
    "    scrape_story(line) #raspa a página\n",
    "    i += 1\n",
    "    if (1 % 10 == 0):\n",
    "        print(\"Estou na linha \", i) #pra ter ideia de quantas faltam"
   ]
  },
  {
   "cell_type": "code",
   "execution_count": null,
   "metadata": {},
   "outputs": [],
   "source": []
  },
  {
   "cell_type": "code",
   "execution_count": null,
   "metadata": {},
   "outputs": [],
   "source": [
    " "
   ]
  }
 ],
 "metadata": {
  "kernelspec": {
   "display_name": "Python 3",
   "language": "python",
   "name": "python3"
  },
  "language_info": {
   "codemirror_mode": {
    "name": "ipython",
    "version": 3
   },
   "file_extension": ".py",
   "mimetype": "text/x-python",
   "name": "python",
   "nbconvert_exporter": "python",
   "pygments_lexer": "ipython3",
   "version": "3.8.9"
  }
 },
 "nbformat": 4,
 "nbformat_minor": 4
}
